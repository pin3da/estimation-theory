{
 "cells": [
  {
   "cell_type": "code",
   "execution_count": 65,
   "metadata": {
    "collapsed": true
   },
   "outputs": [],
   "source": [
    "%matplotlib inline\n",
    "import numpy as np\n",
    "import matplotlib.pyplot as plt\n",
    "import pandas as pd\n",
    "import colorsys\n",
    "\n",
    "w0 = 0.5\n",
    "w1 = 2\n",
    "sig2 = 0.1\n",
    "\n",
    "def w0h (X):\n",
    "    N = len(X)\n",
    "    s1 = np.sum(X[:,0])\n",
    "    s2 = np.sum(X[:,0] ** 2)\n",
    "    sxn = np.sum(X[:,1])\n",
    "    sxnzn = np.sum(X[:,0] * X[:,1])\n",
    "    co = 1.0 / (N * s2 - s1 * s1)\n",
    "    return co * (s2 * sxn - s1 * sxnzn)\n",
    "\n",
    "def w1h (X):\n",
    "    N = len(X)\n",
    "    s1 = np.sum(X[:,0])\n",
    "    s2 = np.sum(X[:,0] ** 2)\n",
    "    sxn = np.sum(X[:,1])\n",
    "    sxnzn = np.sum(X[:,0] * X[:,1])\n",
    "    co = 1.0 / (N * s2 - s1 * s1)\n",
    "    return co * (-s1 * sxn + N * sxnzn)\n"
   ]
  },
  {
   "cell_type": "code",
   "execution_count": 66,
   "metadata": {
    "collapsed": false
   },
   "outputs": [
    {
     "data": {
      "image/png": "[encoded data removed]",
      "text/plain": [
       "<matplotlib.figure.Figure at 0x7fe1770dbb70>"
      ]
     },
     "metadata": {},
     "output_type": "display_data"
    },
    {
     "data": {
      "image/png": "[encoded data removed]",
      "text/plain": [
       "<matplotlib.figure.Figure at 0x7fe176b55390>"
      ]
     },
     "metadata": {},
     "output_type": "display_data"
    }
   ],
   "source": [
    "\n",
    "def genData(N, MV = 10):\n",
    "    z = np.linspace(0, MV, N)\n",
    "    e = np.random.normal(0, sig2, size=N)\n",
    "    x = w1 * z + e\n",
    "    x = x + w0\n",
    "    X = np.array([z, x]).transpose()\n",
    "    return X\n",
    "\n",
    "\n",
    "iter = 100\n",
    "# samples = np.array([10, 20, 30, 40, 50, 100, 110])\n",
    "samples = np.arange(0, 300, 10)\n",
    "\n",
    "s = len(samples)\n",
    "ew0 = np.ndarray(shape=(s, iter), dtype=float)\n",
    "ew1 = np.ndarray(shape=(s, iter), dtype=float)\n",
    "wmean = np.ndarray(shape=(s, 2), dtype=float)\n",
    "wstd  = np.ndarray(shape=(s, 2), dtype=float)\n",
    "rw0 = np.full((s, 1), w0, dtype=float)\n",
    "rw1 = np.full((s, 1), w1, dtype=float)\n",
    "\n",
    "\n",
    "i = 0\n",
    "for n in samples:\n",
    "    for j in range(0, iter):\n",
    "        data = genData(n)\n",
    "        ew0[i][j] = w0h(data)\n",
    "        ew1[i][j] = w1h(data)\n",
    "        \n",
    "    wmean[i][0] = np.mean(ew0[i])\n",
    "    wstd[i][0] = np.std(ew0[i])\n",
    "    wmean[i][1] = np.mean(ew1[i])\n",
    "    wstd[i][1] = np.std(ew1[i])\n",
    "    i = i + 1\n",
    "    \n",
    "\n",
    "plt.errorbar(samples, wmean[:,0], wstd[:,0], linestyle='None', marker='o')\n",
    "plt.plot(samples, rw0, 'r')\n",
    "plt.xlabel(\"Number of samples\")\n",
    "plt.title(\"Estimation of w0\")\n",
    "\n",
    "plt.show()\n",
    "\n",
    "plt.errorbar(samples, wmean[:,1], wstd[:,1], linestyle='None', marker='o')\n",
    "plt.plot(samples, rw1, 'r')\n",
    "plt.title(\"Estimation of w1\")\n",
    "plt.xlabel(\"Number of samples\")\n",
    "\n",
    "plt.show()\n",
    "        \n",
    "\n"
   ]
  },
  {
   "cell_type": "code",
   "execution_count": null,
   "metadata": {
    "collapsed": true
   },
   "outputs": [],
   "source": []
  }
 ],
 "metadata": {
  "anaconda-cloud": {},
  "kernelspec": {
   "display_name": "Python [Root]",
   "language": "python",
   "name": "Python [Root]"
  },
  "language_info": {
   "codemirror_mode": {
    "name": "ipython",
    "version": 3
   },
   "file_extension": ".py",
   "mimetype": "text/x-python",
   "name": "python",
   "nbconvert_exporter": "python",
   "pygments_lexer": "ipython3",
   "version": "3.5.2"
  }
 },
 "nbformat": 4,
 "nbformat_minor": 1
}
