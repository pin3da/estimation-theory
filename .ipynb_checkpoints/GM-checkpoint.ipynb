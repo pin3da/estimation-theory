{
 "cells": [
  {
   "cell_type": "code",
   "execution_count": 51,
   "metadata": {
    "collapsed": false
   },
   "outputs": [
    {
     "name": "stdout",
     "output_type": "stream",
     "text": [
      "0.0115886632335\n",
      "[-0.01569162  0.01268579]\n",
      "[array([ 9.94077841,  8.4548356 ]), array([ 14.07900484,  10.72235025]), array([  9.60070225,  11.46635044]), array([ 7.3069118 ,  7.40748759]), array([ 15.17180401,  10.43613025]), array([ 11.916304  ,   8.26275025]), array([  9.77437696,  12.42915025]), array([ 11.34275041,   9.4864    ]), array([ 7.40770532,  6.71950084]), array([ 12.033961  ,  12.16405129]), array([ 9.90423841,  8.54878187]), array([ 11.17096929,   9.79251849]), array([ 5.88717432,  9.24950569]), array([ 14.75404921,  10.21697296]), array([ 10.48399641,  17.123044  ]), array([ 3.8022699 ,  9.47777796]), array([ 10.61065476,   5.00345319]), array([ 13.675204  ,   6.98539614]), array([ 11.22049009,  10.28228356]), array([ 14.10978969,  11.30506129]), array([ 13.85998441,   8.20043405]), array([  6.25945357,  10.30474201]), array([  3.01775961,  10.82081025]), array([ 15.83801209,   8.81888052]), array([ 10.329796  ,   5.35126436]), array([  9.06672321,  19.18702809]), array([ 7.71528397,  7.18057772]), array([  4.66257649,  12.61741441]), array([ 9.74251369,  6.16424618]), array([  5.04977301,  18.72898729]), array([ 6.45312409,  9.75063076]), array([ 8.32737992,  8.81015188]), array([ 11.655396  ,  10.44970276]), array([ 10.27715364,   9.67894321]), array([  5.12157635,  14.65894369]), array([ 14.52905689,  13.08196561]), array([  9.10772041,  11.87767296]), array([ 16.19660025,   7.83552064]), array([  5.4653556,  11.029041 ]), array([ 6.61173797,  4.65666188]), array([ 6.65500687,  8.54556596]), array([  8.65112804,  16.16281209]), array([  6.07543623,  10.55470144]), array([  6.110784  ,  11.27079184]), array([ 2.8793678 ,  8.66366243]), array([ 6.45622363,  9.73939264]), array([ 9.865881  ,  9.94014784]), array([  8.40599848,  11.57224324]), array([ 8.45756908,  9.21304609]), array([ 4.47914896,  1.76252176]), array([ 0.01692601,  2.303474  ]), array([ 0.79619929,  5.91058757]), array([ 0.94653441,  2.85177524]), array([ 0.03701776,  3.81695932]), array([ 1.45540096,  0.29757025]), array([ 0.76422564,  1.44576576]), array([ 0.40246336,  0.80335369]), array([ 0.11329956,  0.51065316]), array([ 0.01062961,  1.61396698]), array([ 0.83119689,  0.99301225]), array([  6.10090000e-04,   8.02186664e+00]), array([ 0.67223601,  2.6943581 ]), array([ 0.77404804,  6.3813833 ]), array([ 1.91072564,  0.98446084]), array([ 2.52670099,  0.77686596]), array([ 0.04468996,  0.00139129]), array([ 0.31741956,  0.46703556]), array([ 0.34975396,  6.3825959 ]), array([ 1.35252248,  1.27642544]), array([ 0.19377604,  2.18158808]), array([ 0.21141604,  0.599076  ]), array([ 0.09746884,  0.00568516]), array([ 0.02289169,  2.3158448 ]), array([ 0.83083225,  0.05071504]), array([ 0.64336441,  0.26884225]), array([ 0.265225  ,  0.86527204]), array([  1.05464684e+00,   8.17960000e-04]), array([ 1.7005464 ,  0.31741956]), array([ 0.10387729,  2.66842026]), array([ 1.30354739,  1.37454521]), array([ 0.05271616,  2.38300969]), array([ 0.89472681,  0.00330625]), array([ 0.47320641,  0.00923521]), array([ 0.93180409,  2.48809612]), array([ 0.04541161,  0.76510009]), array([ 0.41011216,  2.34631933]), array([ 2.94362649,  0.38477209]), array([ 0.33895684,  0.76790169]), array([ 0.19829209,  0.38763076]), array([ 0.29224836,  4.11933705]), array([ 3.74132693,  2.44719092]), array([ 6.8474329 ,  0.32080896]), array([ 0.80084601,  0.30481441]), array([ 0.01357225,  3.239964  ]), array([ 0.12759184,  0.00425104]), array([ 0.099856 ,  4.0594271]), array([ 0.47651409,  0.26471025]), array([ 0.15272464,  5.73142752]), array([ 4.23140533,  1.45462897])]\n",
      "1\n"
     ]
    },
    {
     "data": {
      "image/png": "[encoded data removed]",
      "text/plain": [
       "<matplotlib.figure.Figure at 0x7fd310b7a2b0>"
      ]
     },
     "metadata": {},
     "output_type": "display_data"
    }
   ],
   "source": [
    "%matplotlib inline\n",
    "import numpy as np\n",
    "import matplotlib.pyplot as plt\n",
    "import pandas as pd\n",
    "import colorsys\n",
    "from scipy.stats import multivariate_normal\n",
    "\n",
    "data = pd.read_csv(\"Lab 2/dataForGMMExample1.csv\", sep=',')\n",
    "X = np.array(data)\n",
    "\n",
    "plt.plot(X[:,0], X[:,1], 'ro')\n",
    "\n",
    "K = 2\n",
    "\n",
    "mu = np.array([[-2, 2], [2, -2]])\n",
    "sigma = np.array([np.diag((2, 2)), np.diag((2, 2))])\n",
    "pi = np.array([0.5, 0.5])\n",
    "\n",
    "def gamma(n, k, mu, sigma, X, pi):\n",
    "    return pi[k] * multivariate_normal.pdf(X[n], mu[k], sigma[k])\n",
    "\n",
    "\n",
    "def npik(k, mu, sigma, X, pi): \n",
    "    gz = [gamma(i, k, mu, sigma, X, pi) for i in range(len(X))]\n",
    "    return np.sum(gz) / len(X)\n",
    "\n",
    "def nmuk(k, mu, sigma, X, pi):\n",
    "    gz = [gamma(i, k, mu, sigma, X, pi) for i in range(len(X))]\n",
    "    gz = np.dot(gz, X)\n",
    "    return gz / len(X)\n",
    "\n",
    "def nsigk(k, mu, sigma, X, pi):\n",
    "    gz = [gamma(i, k, mu, sigma, X, pi) for i in range(len(X))]\n",
    "    # t = np.multiply((X - mu[k]), (X - mu[k]).T)\n",
    "    t = [(X[i] - mu[k]) * (X[i] - mu[k]).T  for i in range(len(X))]\n",
    "    print(t)\n",
    "    return 1\n",
    "\n",
    "    \n",
    "print(npik(0, mu, sigma, X, pi))\n",
    "print(nmuk(0, mu, sigma, X, pi))\n",
    "print(nsigk(0, mu, sigma, X, pi))\n",
    "\n"
   ]
  },
  {
   "cell_type": "code",
   "execution_count": 48,
   "metadata": {
    "collapsed": false
   },
   "outputs": [
    {
     "name": "stdout",
     "output_type": "stream",
     "text": [
      "[[1 3]\n",
      " [1 2]]\n",
      "[4 3]\n"
     ]
    }
   ],
   "source": [
    "a = np.array([1, 1, 2, 3])\n",
    "print(np.sum(a, axis=0))"
   ]
  }
 ],
 "metadata": {
  "anaconda-cloud": {},
  "kernelspec": {
   "display_name": "Python [Root]",
   "language": "python",
   "name": "Python [Root]"
  },
  "language_info": {
   "codemirror_mode": {
    "name": "ipython",
    "version": 3
   },
   "file_extension": ".py",
   "mimetype": "text/x-python",
   "name": "python",
   "nbconvert_exporter": "python",
   "pygments_lexer": "ipython3",
   "version": "3.5.2"
  }
 },
 "nbformat": 4,
 "nbformat_minor": 1
}
