{
 "cells": [
  {
   "cell_type": "markdown",
   "metadata": {},
   "source": [
    "# Lab 1: GMM and EM Algorithm\n",
    "\n",
    "- Gustavo Adolfo Gutierrez Sabogal\n",
    "- Manuel Felipe Pineda"
   ]
  },
  {
   "cell_type": "code",
   "execution_count": 1,
   "metadata": {
    "collapsed": false,
    "run_control": {
     "frozen": false,
     "read_only": false
    }
   },
   "outputs": [],
   "source": [
    "%matplotlib inline\n",
    "import numpy as np\n",
    "from sklearn import cluster\n",
    "import matplotlib.pyplot as plt\n",
    "import matplotlib as mpl\n",
    "import pandas as pd\n",
    "import scipy.stats as stats\n",
    "from scipy.stats import multivariate_normal as mnormal\n",
    "from tqdm import tnrange, tqdm_notebook"
   ]
  },
  {
   "cell_type": "markdown",
   "metadata": {},
   "source": [
    "# EM Algorithm\n",
    "\n",
    "The log likelihood is described as:\n",
    "\n",
    "\n",
    "$$\n",
    "\\mathbb{E} [\\log p(\\mathbf{X}, \\mathbf{Z} | \\pi, \\mu, \\Sigma)] = \\sum_{n = 1}^{N} \\sum_{k = 1}^{K} \\gamma(Z_{nk}) \\{\\log\\pi_k + \\log \\mathcal{N} \\left (\\mathbf{x}_n \\middle | \\mu_k, \\Sigma_k \\right)\\}\n",
    "$$\n",
    "\n",
    "## Derivative of log likelihood with respect to $\\mu_j$\n",
    "\n",
    "### Useful derivatives:"
   ]
  },
  {
   "cell_type": "markdown",
   "metadata": {},
   "source": [
    "\\begin{align*}\n",
    "\\frac{\\partial}{\\partial \\mu_k}\n",
    " \\left(\\mathcal{N} \\left (\\mathbf{x}_n \\middle | \\mu_k, \\Sigma_k \\right)\\right) & = \n",
    "\\frac{1}{\\sqrt{2 \\pi \\Sigma_k}} \\exp {\\left( - \\frac{1}{2} \\frac{(\\mathbf{x}_n - \\mu_k)^2}{\\Sigma_k} \\right)} \n",
    "\\frac {\\partial}{\\partial \\mu_k} \\left( - \\frac{1}{2} \\frac{(\\mathbf{x}_n - \\mu_k)^2}{\\Sigma_k} \\right) \\\\\n",
    "       & = \\mathcal{N} \\left (\\mathbf{x}_n \\middle | \\mu_k, \\Sigma_k \\right) \\frac{\\partial}{\\partial \\mu_k}\\left( - \\frac{1}{2} \\frac{(\\mathbf{x}_n - \\mu_k)^2}{\\Sigma_k} \\right)\n",
    "\\end{align*}\n",
    "\n",
    "where:\n",
    "\n",
    "\\begin{equation*}\n",
    "    \\frac {\\partial}{\\partial \\mu_k} \\left( - \\frac{1}{2} \\frac{(\\mathbf{x}_n - \\mu_k)^2}{\\Sigma_k} \\right) = \\frac{(\\mathbf{x}_n - \\mu_k)}{\\Sigma_k} \n",
    "\\end{equation*}\n",
    "\n",
    "Maximizing with respect to $\\mu_k$:\n",
    "\n",
    "\\begin{align*}\n",
    "    \\frac{\\partial}{\\partial \\mu_k} & \\mathbb{E} \\left[\\log p(\\mathbf{X}, \\mathbf{Z} | \\pi, \\mu, \\Sigma)\\right] = 0 \\\\\n",
    "     & = \\frac{\\partial}{\\partial \\mu_k} \\left(\\sum_{n=1}^{N} \\sum_{k=1}^{K} \\gamma(Z_{nk}) \\left\\{ \\log\\pi_k + \\log \\mathcal{N}(\\mathbf{x}_n | \\mu_k, \\Sigma_k)\\right\\}\\right) \\\\\n",
    "     & = \\frac{\\partial}{\\partial \\mu_k} \\left(\\sum_{n=1}^{N} \\gamma(Z_{nk}) \\left\\{ \\log \\mathcal{N}(\\mathbf{x}_n | \\mu_k, \\Sigma_k)\\right\\}\\right) \\\\\n",
    "     & = \\sum_{n=1}^{N} \\gamma(Z_{nk}) \\frac{\\partial}{\\partial \\mu_k} \\left( \\left\\{ \\log \\mathcal{N}(\\mathbf{x}_n | \\mu_k, \\Sigma_k)\\right\\}\\right) \\\\\n",
    "     & = \\sum_{n = 1} ^ {N} \\gamma(Z_{nk}) \\frac{1}{\\mathcal{N} \\left (\\mathbf{x}_n \\middle | \\mu_k, \\Sigma_k \\right)} \\frac{\\partial}{\\partial \\mu_k} \\left(\\mathcal{N} \\left (\\mathbf{x}_n \\middle | \\mu_k, \\Sigma_k \\right)\\right)  \\\\\n",
    "     & = \\sum_{n = 1} ^ {N} \\gamma(Z_{nk}) \\frac{(\\mathbf{X}_n - \\mu_k)}{\\Sigma_k}  \\\\\n",
    "\\end{align*}\n",
    "\n",
    "Finding $\\mu_k$ : \n",
    "\n",
    "\n",
    "\\begin{align*}\n",
    "    \\sum_{n = 1} ^ {N} \\gamma(Z_{nk}) \\frac{(\\mathbf{X}_n - \\mu_k)}{\\Sigma_k} & = 0 \\\\\n",
    "    \\sum_{n = 1} ^ {N} \\gamma(Z_{nk}) (\\mathbf{X}_n - \\mu_k) & = 0 \\\\\n",
    "    \\sum_{n = 1} ^ {N} \\gamma(Z_{nk}) \\mathbf{X}_n - \\sum_{n = 1} ^ {N} \\gamma(Z_{nk})  \\mu_k & = 0 \\\\\n",
    "\\end{align*}\n",
    "\n",
    "Finally:\n",
    "\n",
    "\\begin{align*}\n",
    "    \\mu_k & = \\frac{\\sum_{n = 1} ^ {N} \\gamma(Z_{nk}) \\mathbf{X}_n}{\\sum_{n = 1} ^ {N} \\gamma(Z_{nk}) }\n",
    "\\end{align*}\n",
    "\n",
    "\n",
    "## Derivative of log likelihood with respect to $\\Sigma_j$\n",
    "\n",
    "### Useful derivatives:\n",
    "\n",
    "\\begin{align*}\n",
    "\\frac{\\partial}{\\partial \\Sigma_j}\n",
    " \\left(\\mathcal{N} \\left (\\mathbf{x}_n \\middle | \\mu_j, \\Sigma_j \\right)\\right) & = \n",
    " \\frac{\\partial}{\\partial \\Sigma_j} \\left( \\frac{1}{\\sqrt{2 \\pi \\Sigma_j}} \\exp {\\left( - \\frac{1}{2} \\frac{(\\mathbf{x}_n - \\mu_j)^2}{\\Sigma_j} \\right)}\\right)  \\\\\n",
    "    & = - \\frac{1}{2 \\Sigma_j \\sqrt{2 \\pi \\Sigma_j}} \\exp {\\left( - \\frac{1}{2} \\frac{(\\mathbf{x}_n - \\mu_j)^2}{\\Sigma_j} \\right)} +  \\frac{1}{\\sqrt{2 \\pi \\Sigma_j}} \\exp {\\left( - \\frac{1}{2} \\frac{(\\mathbf{x}_n - \\mu_j)^2}{\\Sigma_j} \\right)} \\left( \\frac{1}{2} \\frac{(\\mathbf{x}_n - \\mu_j)^2}{\\Sigma_j^2} \\right) \\\\\n",
    "    & = \\mathcal{N} \\left (\\mathbf{x}_n \\middle | \\mu_j, \\Sigma_j \\right) \\left(\\frac{1}{2} \\frac{(\\mathbf{x}_n - \\mu_j)^2}{\\Sigma_j^2} - \\frac{1}{2 \\Sigma_j} \\right)\n",
    "\\end{align*}\n",
    "\n",
    "-----\n",
    "\n",
    "\\begin{align*}\n",
    "    \\frac{\\partial \\mathbb{E} [\\log p(\\mathbf{X}, \\mathbf{Z} | \\pi, \\mu, \\Sigma)]}{\\partial \\Sigma_j} = 0 \\\\\n",
    "     & = \\frac{\\partial }{\\partial \\Sigma_j} \\left(\\sum_{n=1}^{N} \\sum_{k=1}^{K} \\gamma(Z_{nk}) \\left\\{ \\log\\pi_k + \\log \\mathcal{N}(\\mathbf{x}_n | \\mu_k, \\Sigma_k)\\right\\}\\right) \\\\\n",
    "     & = \\frac{\\partial}{\\partial \\Sigma_j} \\left(\\sum_{n=1}^{N} \\gamma(Z_{nj}) \\left\\{ \\log \\mathcal{N}(\\mathbf{x}_n | \\mu_j, \\Sigma_j)\\right\\}\\right) \\\\\n",
    "     & = \\sum_{n=1}^{N} \\gamma(Z_{nj}) \\frac{\\partial}{\\partial \\Sigma_j} \\left( \\log \\mathcal{N}(\\mathbf{x}_n | \\mu_j, \\Sigma_j)\\right) \\\\\n",
    "     & = \\sum_{n = 1} ^ {N} \\gamma(Z_{nj}) \\frac{1}{\\mathcal{N} \\left (\\mathbf{x}_n \\middle | \\mu_j, \\Sigma_j \\right)} \\frac{\\partial }{\\partial \\Sigma_j} \\left(\\mathcal{N} \\left (\\mathbf{x}_n \\middle | \\mu_j, \\Sigma_j \\right)\\right)  \\\\\n",
    "     & = \\sum_{n = 1} ^ {N} \\gamma(Z_{nj}) \\left( \\frac{1}{2} \\frac{(\\mathbf{x}_n - \\mu_j)^2}{\\Sigma_j^2} - \\frac{1}{2 \\Sigma_j} \\right) \\\\\n",
    "\\end{align*}\n",
    "\n",
    "Finding $\\Sigma_j$ : \n",
    "\n",
    "\n",
    "\\begin{align*}\n",
    "    \\sum_{n = 1} ^ {N} \\gamma(Z_{nj}) \\left( \\frac{1}{2} \\frac{(\\mathbf{x}_n - \\mu_j)^2}{\\Sigma_j^2} - \\frac{1}{2 \\Sigma_j} \\right) & = 0 \\\\\n",
    "    \\sum_{n = 1} ^ {N} \\gamma(Z_{nj}) \\frac{1}{2} \\frac{(\\mathbf{x}_n - \\mu_j)^2}{\\Sigma_j^2} - \\sum_{n = 1} ^ {N} \\gamma(Z_{nj}) \\frac{1}{2 \\Sigma_j} & = 0 \\\\\n",
    "    \\frac{1}{2 \\Sigma_j^2} \\sum_{n = 1} ^ {N} \\gamma(Z_{nj}) {(\\mathbf{x}_n - \\mu_j)^2} & = \\frac{1}{2 \\Sigma_j} \\sum_{n = 1} ^ {N} \\gamma(Z_{nj}) \\\\\n",
    "\\end{align*}\n",
    "\n",
    "Finally:\n",
    "\\begin{align*}\n",
    "    {\\Sigma_j}  & = \\frac{\\sum_{n = 1} ^ {N} \\gamma(Z_{nj}) {(\\mathbf{x}_n - \\mu_j)^2}}{\\sum_{n = 1} ^ {N} \\gamma(Z_{nj})} \\\\\n",
    "\\end{align*}"
   ]
  },
  {
   "cell_type": "markdown",
   "metadata": {},
   "source": [
    "## Implementation"
   ]
  },
  {
   "cell_type": "code",
   "execution_count": 2,
   "metadata": {
    "collapsed": true,
    "run_control": {
     "frozen": false,
     "read_only": false
    }
   },
   "outputs": [],
   "source": [
    "color = [(0.763, 0.058, 0.763), (0.058, 0.763, 0.082),\n",
    "         (0.523, 0.111, 0.666), (0.634, 0.754, 0.223)]\n",
    "\n",
    "def plot_cov(cov, mu, k):\n",
    "    fig = plt.figure(0)\n",
    "    ax = fig.add_subplot(111)\n",
    "    v, w = np.linalg.eigh(cov)\n",
    "    u = w[0] / np.linalg.norm(w[0])\n",
    "    angle = np.arctan(u[1] / u[0])\n",
    "    angle = 180.0 * angle / np.pi \n",
    "    ellip = mpl.patches.Ellipse(xy=mu,\n",
    "                                width=v[1],\n",
    "                                height=v[0],\n",
    "                                angle=angle)\n",
    "    ax.add_artist(ellip)\n",
    "    ellip.set_facecolor(color[k])\n",
    "    ellip.set_clip_box(ax.bbox)\n",
    "    return ellip"
   ]
  },
  {
   "cell_type": "markdown",
   "metadata": {},
   "source": [
    "The following function computes _one_ iteration of the Expectation-Maximization algorithm. It returns new values for the parameters $\\pi$, $\\mu$ and $\\sigma$ being maximized."
   ]
  },
  {
   "cell_type": "code",
   "execution_count": 3,
   "metadata": {
    "collapsed": false,
    "run_control": {
     "frozen": false,
     "read_only": false
    }
   },
   "outputs": [],
   "source": [
    "def EM_Iter(x, pi, mu, sig):\n",
    "    # x : dataset\n",
    "    # pi: initial estimates for the mixture weights\n",
    "    # mu: initial means for the gaussians\n",
    "    # sig: inital covariance matrices for the gaussians\n",
    "    N,D = x.shape\n",
    "    K = len(pi)\n",
    "    \n",
    "    # N: number of observations\n",
    "    # D: dimensions of each observation\n",
    "    # K: number of gaussians to mix\n",
    "    \n",
    "    # E-step\n",
    "    # compute wik for all data points and all mixture \n",
    "    # components the result is an NxK matrix\n",
    "    \n",
    "    Wik = np.zeros((N,K))\n",
    "    for n in range(N):\n",
    "        for k in range(K):\n",
    "            Wik[n,k] = pi[k] * mnormal(mean=mu[k],\n",
    "                                       cov=sig[k]).pdf(x[n])\n",
    "    norm = np.transpose(np.sum(Wik,axis=1)[None])\n",
    "    Wik = Wik / norm\n",
    "   \n",
    "    # M-step\n",
    "    # Compute new values for pi, mu and sigma using wik\n",
    "    Nk = np.sum(Wik, axis=0)\n",
    "    \n",
    "    # Compute a new value for pi\n",
    "    pi_new = Nk / N\n",
    "    \n",
    "    # Compute a new value for mu\n",
    "    mu_new = np.zeros((K,D))\n",
    "    for k in range(K):\n",
    "        s = np.zeros(D)\n",
    "        for n in range(N):\n",
    "            s += Wik[n,k] * x[n]\n",
    "        mu_new[k] = (1 / Nk[k]) * s\n",
    "    \n",
    "    # Compute a new value for sigma\n",
    "    sig_new = [np.zeros((D,D)) for k in range(K)]\n",
    "    for k in range(K):\n",
    "        r = np.zeros((D,D))\n",
    "        for n in range(N):\n",
    "            t = np.reshape(x[n] - mu_new[k], (D,1))\n",
    "            r += Wik[n,k] * np.dot(t, t.T)\n",
    "        sig_new[k] = (1 / Nk[k]) * r\n",
    "    \n",
    "    return pi_new, mu_new, sig_new, Wik"
   ]
  },
  {
   "cell_type": "markdown",
   "metadata": {},
   "source": [
    "Evaluation of the logarithm of the likelihood function. This function returns the value on which termination of EM will be decided."
   ]
  },
  {
   "cell_type": "code",
   "execution_count": 4,
   "metadata": {
    "collapsed": true,
    "run_control": {
     "frozen": false,
     "read_only": false
    }
   },
   "outputs": [],
   "source": [
    "def loglikelihood(x, pi, mu, sig):\n",
    "    N,D = x.shape\n",
    "    K = len(pi)\n",
    "    lh = 0.0\n",
    "    for n in range(N):\n",
    "        s = 0.0\n",
    "        for k in range(K):\n",
    "            s += pi[k] * mnormal(mean=mu[k],\n",
    "                                 cov=sig[k]).pdf(x[n])\n",
    "        lh += np.log(s)\n",
    "    return lh       "
   ]
  },
  {
   "cell_type": "markdown",
   "metadata": {},
   "source": [
    "Actual Expectation-Maximization algorithm implementation."
   ]
  },
  {
   "cell_type": "code",
   "execution_count": 5,
   "metadata": {
    "collapsed": false,
    "run_control": {
     "frozen": false,
     "read_only": false
    }
   },
   "outputs": [],
   "source": [
    "def EM(x, pi, mu, sig, epsilon=0.00001, iters=100, debug=None):\n",
    "    lh_old = -1e100\n",
    "    lh_new = loglikelihood(x, pi, mu, sig)\n",
    "    N = x.shape[0]\n",
    "    K = len(pi)\n",
    "    Wik = np.zeros((N,K))\n",
    "    for i in tnrange(iters, desc='Optimizing'):\n",
    "        if abs(lh_old - lh_new) < epsilon:\n",
    "            break\n",
    "        pi, mu, sig, Wik = EM_Iter(x,pi,mu,sig)\n",
    "        if (debug):\n",
    "            debug(i, lh_new, x, pi, mu, sig, Wik,\n",
    "                  np.argmax(Wik,axis=1))\n",
    "        lh_old = lh_new\n",
    "        lh_new = loglikelihood(x, pi, mu, sig)\n",
    "    clusters = np.argmax(Wik,axis=1)\n",
    "    pclusters = Wik\n",
    "    return mu, sig, lh_new, pi, pclusters, clusters, i"
   ]
  },
  {
   "cell_type": "markdown",
   "metadata": {},
   "source": [
    "# 2D dataset\n",
    "\n",
    "Artificial data to test the GMM. We purposely use data in two dimensions to observe how the clustering is performed. "
   ]
  },
  {
   "cell_type": "code",
   "execution_count": 6,
   "metadata": {
    "collapsed": false,
    "run_control": {
     "frozen": false,
     "read_only": false
    }
   },
   "outputs": [
    {
     "data": {
      "image/png": "[encoded data removed]",
      "text/plain": [
       "<matplotlib.figure.Figure at 0x7f63e967e080>"
      ]
     },
     "metadata": {},
     "output_type": "display_data"
    },
    {
     "name": "stdout",
     "output_type": "stream",
     "text": [
      "Iteration 0, loglike -381.50100896737933\n"
     ]
    },
    {
     "name": "stderr",
     "output_type": "stream",
     "text": [
      "Widget Javascript not detected.  It may not be installed properly. Did you enable the widgetsnbextension? If not, then run \"jupyter nbextension enable --py --sys-prefix widgetsnbextension\"\n"
     ]
    },
    {
     "data": {
      "image/png": "[encoded data removed]",
      "text/plain": [
       "<matplotlib.figure.Figure at 0x7f63bd7a9d68>"
      ]
     },
     "metadata": {},
     "output_type": "display_data"
    },
    {
     "name": "stdout",
     "output_type": "stream",
     "text": [
      "Iteration 1, loglike -257.5106406109371\n"
     ]
    },
    {
     "data": {
      "image/png": "[encoded data removed]",
      "text/plain": [
       "<matplotlib.figure.Figure at 0x7f63bd7a9898>"
      ]
     },
     "metadata": {},
     "output_type": "display_data"
    },
    {
     "name": "stdout",
     "output_type": "stream",
     "text": [
      "Iteration 2, loglike -252.43329504595783\n"
     ]
    },
    {
     "data": {
      "image/png": "[encoded data removed]",
      "text/plain": [
       "<matplotlib.figure.Figure at 0x7f63bd75deb8>"
      ]
     },
     "metadata": {},
     "output_type": "display_data"
    },
    {
     "name": "stdout",
     "output_type": "stream",
     "text": [
      "Iteration 3, loglike -252.3699822618718\n"
     ]
    },
    {
     "data": {
      "image/png": "[encoded data removed]",
      "text/plain": [
       "<matplotlib.figure.Figure at 0x7f63bd75d780>"
      ]
     },
     "metadata": {},
     "output_type": "display_data"
    },
    {
     "name": "stdout",
     "output_type": "stream",
     "text": [
      "Iteration 4, loglike -252.36989920350445\n"
     ]
    },
    {
     "data": {
      "image/png": "[encoded data removed]",
      "text/plain": [
       "<matplotlib.figure.Figure at 0x7f63bd723ef0>"
      ]
     },
     "metadata": {},
     "output_type": "display_data"
    },
    {
     "name": "stdout",
     "output_type": "stream",
     "text": [
      "\n",
      "Found! final log likelihood:  -252.369898583\n"
     ]
    },
    {
     "data": {
      "image/png": "[encoded data removed]",
      "text/plain": [
       "<matplotlib.figure.Figure at 0x7f63bd7dacc0>"
      ]
     },
     "metadata": {},
     "output_type": "display_data"
    }
   ],
   "source": [
    "def trace(i, lh, x, pi, mu, sig, wik, cluster):\n",
    "    K = len(pi)\n",
    "    print('Iteration {}, loglike {}'.format(i, lh))\n",
    "    for i in range(K):\n",
    "        plot_cov(sig[i], mu[i], i)\n",
    "        plt.plot(x[cluster == i,0], x[cluster == i,1], '.',\n",
    "                 color=color[(i + 2) % 4])\n",
    "    plt.show()    \n",
    "\n",
    "def test_2d(path):\n",
    "    X = np.loadtxt(path, delimiter=',')\n",
    "    K = 2\n",
    "    d = 2\n",
    "    mu = [[-2, 2], [2, -2]]\n",
    "    pik = [1.0 / float(K) for x in range(K)]\n",
    "    sigma = [2.0 * np.eye(d) for x in range(K)]\n",
    "    \n",
    "    for i in range(K):\n",
    "        plot_cov(sigma[i], mu[i], i)\n",
    "    plt.plot(X[:,0], X[:,1], '.k')\n",
    "    plt.show()\n",
    "    \n",
    "    pik0 = [0.5, 0.5]\n",
    "    mu, sig, lh, pi, Wik, cluster, _ = EM(X, pik0, mu,\n",
    "                                          sigma,\n",
    "                                          debug=trace)\n",
    "    print (\"Found! final log likelihood: \", lh)\n",
    "    for i in range(K):\n",
    "        plot_cov(sig[i], mu[i], i)\n",
    "        plt.plot(X[cluster == i,0], X[cluster == i,1], '.',\n",
    "                 color=color[(i + 2) % 4])\n",
    "    plt.show()\n",
    "    \n",
    "    \n",
    "test_2d(\"data/dataForGMMExample1.csv\")"
   ]
  },
  {
   "cell_type": "markdown",
   "metadata": {},
   "source": [
    "# IRIS dataset"
   ]
  },
  {
   "cell_type": "markdown",
   "metadata": {},
   "source": [
    "## Read the data\n",
    "\n",
    "$D = \\{x_n \\}_{n=1}^N$ is the observed data. $N = 150$ and each $x_n$ has $4$ dimensions. $C_n$ is the class of $x_n$. "
   ]
  },
  {
   "cell_type": "code",
   "execution_count": 7,
   "metadata": {
    "collapsed": false,
    "run_control": {
     "frozen": false,
     "read_only": false
    }
   },
   "outputs": [],
   "source": [
    "data = pd.read_csv('iris.data', names=['Sepal-length',\n",
    "                                       'Sepal-width',\n",
    "                                       'Petal-length',\n",
    "                                       'Petal-width',\n",
    "                                       'Class'])\n",
    "D = data.as_matrix(['Sepal-length',\n",
    "                    'Sepal-width',\n",
    "                    'Petal-length',\n",
    "                    'Petal-width'])\n",
    "N,d = D.shape\n",
    "c = data.as_matrix(['Class'])"
   ]
  },
  {
   "cell_type": "markdown",
   "metadata": {},
   "source": [
    "## Initial values\n",
    "\n",
    "$K$ is the number of clusters. This is provided by the user.\n",
    "\n",
    "The unknowns are $\\Theta = \\pi_k \\cup \\mu_k \\cup \\Sigma_k$\n",
    "\n",
    "- $\\pi_k$ probability that a randomly selected $x$ was generated by component $k$. In our case every point might be equally generated by any component. Hence we use $\\pi_k = \\frac{1}{K}$, $1 \\leq k \\leq K$. \n",
    "\n",
    "  $\\sum_{k = 1}^{K} \\pi_k = 1$\n",
    "- $\\mu_k$ initial means of the Gaussians in the mixture. Here we randomly select $K$ points from $D$. \n",
    "- $\\Sigma_k$ for now we use identity matrices of $K \\times K$.\n"
   ]
  },
  {
   "cell_type": "code",
   "execution_count": 8,
   "metadata": {
    "collapsed": false,
    "run_control": {
     "frozen": false,
     "read_only": false
    }
   },
   "outputs": [],
   "source": [
    "K = 3\n",
    "\n",
    "# pik init\n",
    "pik = [1.0 / float(K) for x in range(K)]\n",
    "\n",
    "# muk init\n",
    "choice = np.random.choice(N,K) # Random indices in the data array\n",
    "muk = D[choice]                # Random selected data points\n",
    "\n",
    "# sigk init\n",
    "sigk = [np.eye(d) for x in range(K)]"
   ]
  },
  {
   "cell_type": "code",
   "execution_count": 9,
   "metadata": {
    "collapsed": false,
    "run_control": {
     "frozen": false,
     "read_only": false
    }
   },
   "outputs": [
    {
     "name": "stderr",
     "output_type": "stream",
     "text": [
      "Widget Javascript not detected.  It may not be installed properly. Did you enable the widgetsnbextension? If not, then run \"jupyter nbextension enable --py --sys-prefix widgetsnbextension\"\n"
     ]
    },
    {
     "name": "stdout",
     "output_type": "stream",
     "text": [
      "\n",
      "Final log likelihood: -205.06003186193024\n",
      "Convergence: 18 iterations\n"
     ]
    }
   ],
   "source": [
    "_, _, lh, _, pclusters, clusters, convergence = EM(D, pik,\n",
    "                                                   muk, sigk)\n",
    "print(\"Final log likelihood: {}\\nConvergence: {} iterations\"\n",
    "      .format(lh, convergence))"
   ]
  },
  {
   "cell_type": "markdown",
   "metadata": {},
   "source": [
    "### Results\n",
    "\n",
    "We used GMM to classify the data in the IRIS dataset. For the classification we ignored the **Class** attribute and used GMM with the initial values for the parameters described above. Then we compared the results of GMM with the class information."
   ]
  },
  {
   "cell_type": "code",
   "execution_count": 10,
   "metadata": {
    "collapsed": false,
    "run_control": {
     "frozen": false,
     "read_only": false
    }
   },
   "outputs": [],
   "source": [
    "GMMclusters = pd.DataFrame(data=clusters,\n",
    "                           columns=['GMM cluster'])\n",
    "GMMpclusters = pd.DataFrame(data=pclusters,\n",
    "                            columns=['G1', 'G2', 'G3'])\n",
    "classified = pd.concat([data, GMMclusters, GMMpclusters],\n",
    "                       axis=1)"
   ]
  },
  {
   "cell_type": "code",
   "execution_count": 11,
   "metadata": {
    "collapsed": false,
    "run_control": {
     "frozen": false,
     "read_only": false
    }
   },
   "outputs": [
    {
     "data": {
      "text/html": [
       "<div>\n",
       "<table border=\"1\" class=\"dataframe\">\n",
       "  <thead>\n",
       "    <tr>\n",
       "      <th></th>\n",
       "      <th></th>\n",
       "      <th>G1</th>\n",
       "    </tr>\n",
       "    <tr>\n",
       "      <th></th>\n",
       "      <th></th>\n",
       "      <th>count</th>\n",
       "    </tr>\n",
       "    <tr>\n",
       "      <th>GMM cluster</th>\n",
       "      <th>Class</th>\n",
       "      <th></th>\n",
       "    </tr>\n",
       "  </thead>\n",
       "  <tbody>\n",
       "    <tr>\n",
       "      <th rowspan=\"2\" valign=\"top\">0</th>\n",
       "      <th>Iris-versicolor</th>\n",
       "      <td>47</td>\n",
       "    </tr>\n",
       "    <tr>\n",
       "      <th>Iris-virginica</th>\n",
       "      <td>50</td>\n",
       "    </tr>\n",
       "    <tr>\n",
       "      <th rowspan=\"2\" valign=\"top\">1</th>\n",
       "      <th>Iris-setosa</th>\n",
       "      <td>3</td>\n",
       "    </tr>\n",
       "    <tr>\n",
       "      <th>Iris-versicolor</th>\n",
       "      <td>3</td>\n",
       "    </tr>\n",
       "    <tr>\n",
       "      <th>2</th>\n",
       "      <th>Iris-setosa</th>\n",
       "      <td>47</td>\n",
       "    </tr>\n",
       "  </tbody>\n",
       "</table>\n",
       "</div>"
      ],
      "text/plain": [
       "                               G1\n",
       "                            count\n",
       "GMM cluster Class                \n",
       "0           Iris-versicolor    47\n",
       "            Iris-virginica     50\n",
       "1           Iris-setosa         3\n",
       "            Iris-versicolor     3\n",
       "2           Iris-setosa        47"
      ]
     },
     "execution_count": 11,
     "metadata": {},
     "output_type": "execute_result"
    }
   ],
   "source": [
    "classified[['GMM cluster', 'Class', 'G1']].groupby(\n",
    "    ['GMM cluster', 'Class']).agg(['count'])"
   ]
  },
  {
   "cell_type": "markdown",
   "metadata": {},
   "source": [
    "The results of the classification show that the *Iris-setosa* and *Iris-virginica* classes are correctly identified by GMM in groups $0$ and $1$ resp.. Most of the data corresponding to *Iris-versicolor* is classified in group $2$."
   ]
  },
  {
   "cell_type": "code",
   "execution_count": 12,
   "metadata": {
    "collapsed": false,
    "run_control": {
     "frozen": false,
     "read_only": false
    }
   },
   "outputs": [],
   "source": [
    "df = classified.round({'G1': 2, 'G2':2, 'G3':2})"
   ]
  },
  {
   "cell_type": "markdown",
   "metadata": {},
   "source": [
    "### K-means for $\\mu$ initialization\n",
    "\n",
    "A possible option to find the initial means of the GMM model is to use Kmeans."
   ]
  },
  {
   "cell_type": "code",
   "execution_count": 13,
   "metadata": {
    "collapsed": true
   },
   "outputs": [],
   "source": [
    "k_means = cluster.KMeans(n_clusters=3)\n",
    "k_means.fit(D)\n",
    "labels = k_means.labels_\n",
    "k_centers = k_means.cluster_centers_"
   ]
  },
  {
   "cell_type": "code",
   "execution_count": 14,
   "metadata": {
    "collapsed": false
   },
   "outputs": [
    {
     "name": "stderr",
     "output_type": "stream",
     "text": [
      "Widget Javascript not detected.  It may not be installed properly. Did you enable the widgetsnbextension? If not, then run \"jupyter nbextension enable --py --sys-prefix widgetsnbextension\"\n"
     ]
    },
    {
     "name": "stdout",
     "output_type": "stream",
     "text": [
      "\n",
      "Log-likelihood: -180.99696001118346\n",
      "Convergence: 26 iterations\n"
     ]
    }
   ],
   "source": [
    "K = 3\n",
    "# pik (uniform distribution)\n",
    "pik = [1.0 / float(K) for x in range(K)]\n",
    "# sigk init\n",
    "sigk = [np.eye(d) for x in range(K)]\n",
    "\n",
    "_, _, lh, _, pclusters, clusters, convergence = EM(D,\n",
    "                                                   pik,\n",
    "                                                   k_centers,\n",
    "                                                   sigk)\n",
    "print(\"Log-likelihood: {}\\nConvergence: {} iterations\"\n",
    "      .format(lh, convergence))"
   ]
  },
  {
   "cell_type": "code",
   "execution_count": 15,
   "metadata": {
    "collapsed": false
   },
   "outputs": [
    {
     "data": {
      "text/html": [
       "<div>\n",
       "<table border=\"1\" class=\"dataframe\">\n",
       "  <thead>\n",
       "    <tr>\n",
       "      <th></th>\n",
       "      <th></th>\n",
       "      <th>Sepal-length</th>\n",
       "    </tr>\n",
       "    <tr>\n",
       "      <th></th>\n",
       "      <th></th>\n",
       "      <th>count</th>\n",
       "    </tr>\n",
       "    <tr>\n",
       "      <th>GMM-kmeans cluster</th>\n",
       "      <th>Class</th>\n",
       "      <th></th>\n",
       "    </tr>\n",
       "  </thead>\n",
       "  <tbody>\n",
       "    <tr>\n",
       "      <th>0</th>\n",
       "      <th>Iris-versicolor</th>\n",
       "      <td>45</td>\n",
       "    </tr>\n",
       "    <tr>\n",
       "      <th>1</th>\n",
       "      <th>Iris-setosa</th>\n",
       "      <td>50</td>\n",
       "    </tr>\n",
       "    <tr>\n",
       "      <th rowspan=\"2\" valign=\"top\">2</th>\n",
       "      <th>Iris-versicolor</th>\n",
       "      <td>5</td>\n",
       "    </tr>\n",
       "    <tr>\n",
       "      <th>Iris-virginica</th>\n",
       "      <td>50</td>\n",
       "    </tr>\n",
       "  </tbody>\n",
       "</table>\n",
       "</div>"
      ],
      "text/plain": [
       "                                   Sepal-length\n",
       "                                          count\n",
       "GMM-kmeans cluster Class                       \n",
       "0                  Iris-versicolor           45\n",
       "1                  Iris-setosa               50\n",
       "2                  Iris-versicolor            5\n",
       "                   Iris-virginica            50"
      ]
     },
     "execution_count": 15,
     "metadata": {},
     "output_type": "execute_result"
    }
   ],
   "source": [
    "GMMclusters = pd.DataFrame(data=clusters,\n",
    "                           columns=['GMM-kmeans cluster'])\n",
    "classified = pd.concat([data, GMMclusters], axis=1)\n",
    "\n",
    "classified[['GMM-kmeans cluster', 'Class',\n",
    "            'Sepal-length']].groupby(['GMM-kmeans cluster',\n",
    "                                      'Class']).agg(['count'])"
   ]
  },
  {
   "cell_type": "markdown",
   "metadata": {},
   "source": [
    "Using K-means to initialize the means of the GMM model does impact the convergence of EM on the IRIS dataset. This might be explained from the processing and clustering performed by K-means. However, this assertion needs to be studied with other datasets. Additionally, when centers are initialized using K-means the result is the same across several executions. That does not happens when initializing the means by using randomly chosen points of the dataset. "
   ]
  }
 ],
 "metadata": {
  "anaconda-cloud": {},
  "hide_input": false,
  "kernelspec": {
   "display_name": "Python 3",
   "language": "python",
   "name": "python3"
  },
  "language_info": {
   "codemirror_mode": {
    "name": "ipython",
    "version": 3
   },
   "file_extension": ".py",
   "mimetype": "text/x-python",
   "name": "python",
   "nbconvert_exporter": "python",
   "pygments_lexer": "ipython3",
   "version": "3.5.2+"
  },
  "latex_envs": {
   "bibliofile": "biblio.bib",
   "cite_by": "apalike",
   "current_citInitial": 1,
   "eqLabelWithNumbers": true,
   "eqNumInitial": 0
  },
  "toc": {
   "toc_cell": false,
   "toc_number_sections": true,
   "toc_threshold": 6,
   "toc_window_display": false
  },
  "widgets": {
   "state": {
    "346571bcc1df43fd9cd608a16cd8e81a": {
     "views": [
      {
       "cell_index": 19
      }
     ]
    },
    "59b5ce7fbfc1422281f7757e7ea3a694": {
     "views": [
      {
       "cell_index": 27
      }
     ]
    },
    "8b678b65637d4fad80d8403b2ec41dfe": {
     "views": [
      {
       "cell_index": 13
      }
     ]
    }
   },
   "version": "1.2.0"
  }
 },
 "nbformat": 4,
 "nbformat_minor": 0
}
