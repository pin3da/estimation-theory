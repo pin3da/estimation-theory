{
 "cells": [
  {
   "cell_type": "code",
   "execution_count": 12,
   "metadata": {
    "collapsed": true
   },
   "outputs": [],
   "source": [
    "%matplotlib inline\n",
    "import numpy as np\n",
    "import matplotlib.pyplot as plt\n",
    "import pandas as pd\n",
    "import colorsys\n",
    "\n",
    "w0 = 0.5\n",
    "w1 = 2\n",
    "sig2 = 0.1\n",
    "\n",
    "def w0h (X):\n",
    "    N = len(X)\n",
    "    s1 = np.sum(X[:,0])\n",
    "    s2 = np.sum(X[:,0] ** 2)\n",
    "    sxn = np.sum(X[:,1])\n",
    "    sxnzn = np.sum(X[:,0] * X[:,1])\n",
    "    co = 1.0 / (N * s2 - s1 * s1)\n",
    "    return co * (s2 * sxn - s1 * sxnzn)\n",
    "\n",
    "def w1h (X):\n",
    "    N = len(X)\n",
    "    s1 = np.sum(X[:,0])\n",
    "    s2 = np.sum(X[:,0] ** 2)\n",
    "    sxn = np.sum(X[:,1])\n",
    "    sxnzn = np.sum(X[:,0] * X[:,1])\n",
    "    co = 1.0 / (N * s2 - s1 * s1)\n",
    "    return co * (-s1 * sxn + N * sxnzn)\n"
   ]
  },
  {
   "cell_type": "code",
   "execution_count": 34,
   "metadata": {
    "collapsed": false
   },
   "outputs": [
    {
     "name": "stdout",
     "output_type": "stream",
     "text": [
      "0.500888405093 0.0218778021478\n",
      "0.500381869227 0.0154496471077\n",
      "0.500208109028 0.0183002040152\n",
      "0.498919991609 0.0228000463813\n"
     ]
    }
   ],
   "source": [
    "\n",
    "def genData(X, MV = 10):\n",
    "    z = np.linspace(0, MV, N)\n",
    "    e = np.random.normal(0, sig2, size=N)\n",
    "    x = w1 * z + e\n",
    "    x = x + w0\n",
    "    X = np.array([z, x]).transpose()\n",
    "    return X\n",
    "\n",
    "\n",
    "iter = 100\n",
    "ew0 = np.ndarray(shape=(1,iter), dtype=float)\n",
    "ew1 = np.ndarray(shape=(1,iter), dtype=float)\n",
    "\n",
    "samples = [10, 50, 100, 1000]\n",
    "\n",
    "for n in samples:\n",
    "    for i in range(0, iter):\n",
    "        data = genData(n)\n",
    "        ew0[0][i] = w0h(data)\n",
    "        ew1[0][i] = w1h(data)\n",
    "        \n",
    "    print(np.mean(ew0), np.std(ew0))\n",
    "\n"
   ]
  },
  {
   "cell_type": "code",
   "execution_count": null,
   "metadata": {
    "collapsed": true
   },
   "outputs": [],
   "source": []
  }
 ],
 "metadata": {
  "anaconda-cloud": {},
  "kernelspec": {
   "display_name": "Python [Root]",
   "language": "python",
   "name": "Python [Root]"
  },
  "language_info": {
   "codemirror_mode": {
    "name": "ipython",
    "version": 3
   },
   "file_extension": ".py",
   "mimetype": "text/x-python",
   "name": "python",
   "nbconvert_exporter": "python",
   "pygments_lexer": "ipython3",
   "version": "3.5.2"
  }
 },
 "nbformat": 4,
 "nbformat_minor": 1
}
